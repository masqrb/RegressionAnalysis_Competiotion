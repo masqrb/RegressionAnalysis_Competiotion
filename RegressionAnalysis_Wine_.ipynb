{
  "nbformat": 4,
  "nbformat_minor": 0,
  "metadata": {
    "colab": {
      "provenance": []
    },
    "kernelspec": {
      "name": "python3",
      "display_name": "Python 3"
    },
    "language_info": {
      "name": "python"
    }
  },
  "cells": [
    {
      "cell_type": "code",
      "source": [
        "!pip install catboost"
      ],
      "metadata": {
        "colab": {
          "base_uri": "https://localhost:8080/"
        },
        "id": "JnQicnL1ce9-",
        "outputId": "9e1f55d4-bf69-4fd7-9e5a-fd6a03f232fb"
      },
      "execution_count": 1,
      "outputs": [
        {
          "output_type": "stream",
          "name": "stdout",
          "text": [
            "Collecting catboost\n",
            "  Downloading catboost-1.2.5-cp310-cp310-manylinux2014_x86_64.whl.metadata (1.2 kB)\n",
            "Requirement already satisfied: graphviz in /usr/local/lib/python3.10/dist-packages (from catboost) (0.20.3)\n",
            "Requirement already satisfied: matplotlib in /usr/local/lib/python3.10/dist-packages (from catboost) (3.7.1)\n",
            "Requirement already satisfied: numpy>=1.16.0 in /usr/local/lib/python3.10/dist-packages (from catboost) (1.26.4)\n",
            "Requirement already satisfied: pandas>=0.24 in /usr/local/lib/python3.10/dist-packages (from catboost) (2.1.4)\n",
            "Requirement already satisfied: scipy in /usr/local/lib/python3.10/dist-packages (from catboost) (1.13.1)\n",
            "Requirement already satisfied: plotly in /usr/local/lib/python3.10/dist-packages (from catboost) (5.15.0)\n",
            "Requirement already satisfied: six in /usr/local/lib/python3.10/dist-packages (from catboost) (1.16.0)\n",
            "Requirement already satisfied: python-dateutil>=2.8.2 in /usr/local/lib/python3.10/dist-packages (from pandas>=0.24->catboost) (2.8.2)\n",
            "Requirement already satisfied: pytz>=2020.1 in /usr/local/lib/python3.10/dist-packages (from pandas>=0.24->catboost) (2024.1)\n",
            "Requirement already satisfied: tzdata>=2022.1 in /usr/local/lib/python3.10/dist-packages (from pandas>=0.24->catboost) (2024.1)\n",
            "Requirement already satisfied: contourpy>=1.0.1 in /usr/local/lib/python3.10/dist-packages (from matplotlib->catboost) (1.3.0)\n",
            "Requirement already satisfied: cycler>=0.10 in /usr/local/lib/python3.10/dist-packages (from matplotlib->catboost) (0.12.1)\n",
            "Requirement already satisfied: fonttools>=4.22.0 in /usr/local/lib/python3.10/dist-packages (from matplotlib->catboost) (4.53.1)\n",
            "Requirement already satisfied: kiwisolver>=1.0.1 in /usr/local/lib/python3.10/dist-packages (from matplotlib->catboost) (1.4.5)\n",
            "Requirement already satisfied: packaging>=20.0 in /usr/local/lib/python3.10/dist-packages (from matplotlib->catboost) (24.1)\n",
            "Requirement already satisfied: pillow>=6.2.0 in /usr/local/lib/python3.10/dist-packages (from matplotlib->catboost) (9.4.0)\n",
            "Requirement already satisfied: pyparsing>=2.3.1 in /usr/local/lib/python3.10/dist-packages (from matplotlib->catboost) (3.1.4)\n",
            "Requirement already satisfied: tenacity>=6.2.0 in /usr/local/lib/python3.10/dist-packages (from plotly->catboost) (9.0.0)\n",
            "Downloading catboost-1.2.5-cp310-cp310-manylinux2014_x86_64.whl (98.2 MB)\n",
            "\u001b[2K   \u001b[90m━━━━━━━━━━━━━━━━━━━━━━━━━━━━━━━━━━━━━━━━\u001b[0m \u001b[32m98.2/98.2 MB\u001b[0m \u001b[31m7.6 MB/s\u001b[0m eta \u001b[36m0:00:00\u001b[0m\n",
            "\u001b[?25hInstalling collected packages: catboost\n",
            "Successfully installed catboost-1.2.5\n"
          ]
        }
      ]
    },
    {
      "cell_type": "code",
      "execution_count": 17,
      "metadata": {
        "id": "Ooj4GQuFcbKH"
      },
      "outputs": [],
      "source": [
        "import pandas as pd\n",
        "import numpy as np\n",
        "import matplotlib.pyplot as plt\n",
        "import seaborn as sns\n",
        "\n",
        "from sklearn.datasets import load_wine\n",
        "from sklearn.preprocessing import MinMaxScaler, PolynomialFeatures,StandardScaler\n",
        "from sklearn.model_selection import train_test_split, RandomizedSearchCV,GridSearchCV, KFold\n",
        "from sklearn.neighbors import KNeighborsRegressor\n",
        "from sklearn.tree import DecisionTreeRegressor\n",
        "from sklearn.ensemble import RandomForestRegressor\n",
        "from xgboost import XGBRegressor\n",
        "from catboost import CatBoostRegressor\n",
        "\n",
        "from sklearn.linear_model import LinearRegression\n",
        "from sklearn.metrics import mean_absolute_error, r2_score, mean_squared_error\n",
        "from scipy.stats import randint\n",
        "\n",
        "from sklearn.ensemble import StackingRegressor\n",
        "from lightgbm import LGBMRegressor"
      ]
    },
    {
      "cell_type": "code",
      "source": [
        "# بارگذاری داده‌ها\n",
        "from sklearn.datasets import load_wine\n",
        "data = load_wine()\n",
        "df = pd.DataFrame(data.data, columns=data.feature_names)"
      ],
      "metadata": {
        "id": "4G8gcoODcb-d"
      },
      "execution_count": 3,
      "outputs": []
    },
    {
      "cell_type": "code",
      "source": [
        "X = df.drop('alcohol', axis=1)\n",
        "y = df['alcohol']\n"
      ],
      "metadata": {
        "id": "EMSEhu60cspT"
      },
      "execution_count": 4,
      "outputs": []
    },
    {
      "cell_type": "code",
      "source": [
        "X_train, X_test, y_train, y_test = train_test_split(X, y, test_size=0.2, random_state=42)"
      ],
      "metadata": {
        "id": "rnyz-bhvcuUl"
      },
      "execution_count": 18,
      "outputs": []
    },
    {
      "cell_type": "code",
      "source": [
        "scaler = StandardScaler()\n",
        "X_train = scaler.fit_transform(X_train)\n",
        "X_test = scaler.transform(X_test)\n"
      ],
      "metadata": {
        "id": "1AzS8WhPcwUs"
      },
      "execution_count": 19,
      "outputs": []
    },
    {
      "cell_type": "code",
      "source": [
        "# تعریف مدل‌ها\n",
        "models = {\n",
        "    'Linear Regression': LinearRegression(),\n",
        "    'Random Forest': RandomForestRegressor(random_state=42),\n",
        "    'XGBoost': XGBRegressor(random_state=42),\n",
        "    'CatBoost': CatBoostRegressor(verbose=0, random_state=42)\n",
        "    # ,\n",
        "    # 'LightGBM': LGBMRegressor(random_state=42)\n",
        "}\n"
      ],
      "metadata": {
        "id": "yQdR5LJqczgZ"
      },
      "execution_count": 20,
      "outputs": []
    },
    {
      "cell_type": "code",
      "source": [
        "# بررسی و تنظیم هایپرپارامترها\n",
        "param_grid = {\n",
        "    'Random Forest': {\n",
        "        'n_estimators': [100, 500, 1000],\n",
        "        'max_depth': [None, 10, 20],\n",
        "    },\n",
        "    'XGBoost': {\n",
        "        'n_estimators': [100, 500, 1000],\n",
        "        'learning_rate': [0.01, 0.1, 0.5],\n",
        "        'max_depth': [3, 5, 10],\n",
        "    },\n",
        "    'CatBoost': {\n",
        "        'iterations': [500, 1000],\n",
        "        'learning_rate': [0.01, 0.1],\n",
        "        'depth': [6, 10],\n",
        "     }\n",
        "    #,\n",
        "    # 'LightGBM': {\n",
        "    #     'n_estimators': [100, 500, 1000],\n",
        "    #     'learning_rate': [0.01, 0.1],\n",
        "    #     'max_depth': [3, 5, 10],\n",
        "    # }\n",
        "}"
      ],
      "metadata": {
        "id": "xkOlU1Z4c2fZ"
      },
      "execution_count": 21,
      "outputs": []
    },
    {
      "cell_type": "code",
      "source": [
        "\n",
        "best_models = {}\n",
        "\n",
        "# ارزیابی مدل‌ها\n",
        "for name, model in models.items():\n",
        "    print(f\"Training {name}...\")\n",
        "    if name in param_grid:\n",
        "        grid_search = GridSearchCV(model, param_grid[name], cv=5, scoring='neg_mean_squared_error', verbose=1)\n",
        "        grid_search.fit(X_train, y_train)\n",
        "        best_model = grid_search.best_estimator_\n",
        "        best_models[name] = best_model\n",
        "    else:\n",
        "        model.fit(X_train, y_train)\n",
        "        best_models[name] = model\n",
        "\n",
        "    # پیش‌بینی و ارزیابی مدل\n",
        "    y_pred = best_models[name].predict(X_test)\n",
        "    print(f\"{name} R2 Score: {r2_score(y_test, y_pred)}\")\n",
        "    print(f\"{name} Mean Squared Error: {mean_squared_error(y_test, y_pred)}\")\n",
        "    print(f\"{name} Mean Absolute Error: {mean_absolute_error(y_test, y_pred)}\\n\")\n",
        "\n",
        "# انتخاب بهترین مدل بر اساس R2 Score\n",
        "best_model_name = max(best_models, key=lambda name: r2_score(y_test, best_models[name].predict(X_test)))\n",
        "print(f\"Best Model: {best_model_name}\")\n",
        "\n"
      ],
      "metadata": {
        "colab": {
          "base_uri": "https://localhost:8080/"
        },
        "id": "DLW9HuGWcb2w",
        "outputId": "600f6557-7883-4b41-e345-7b5a6e6028c8"
      },
      "execution_count": 16,
      "outputs": [
        {
          "output_type": "stream",
          "name": "stdout",
          "text": [
            "Training Linear Regression...\n",
            "Linear Regression R2 Score: 0.688936431784382\n",
            "Linear Regression Mean Squared Error: 0.18571608706852427\n",
            "Linear Regression Mean Absolute Error: 0.36754935046008863\n",
            "\n",
            "Training Random Forest...\n",
            "Fitting 5 folds for each of 9 candidates, totalling 45 fits\n",
            "Random Forest R2 Score: 0.7373219305233214\n",
            "Random Forest Mean Squared Error: 0.15682821200105224\n",
            "Random Forest Mean Absolute Error: 0.3167603295259027\n",
            "\n",
            "Training XGBoost...\n",
            "Fitting 5 folds for each of 27 candidates, totalling 135 fits\n",
            "XGBoost R2 Score: 0.6772571773482137\n",
            "XGBoost Mean Squared Error: 0.1926890201130633\n",
            "XGBoost Mean Absolute Error: 0.36241332901848683\n",
            "\n",
            "Training CatBoost...\n",
            "Fitting 5 folds for each of 8 candidates, totalling 40 fits\n",
            "CatBoost R2 Score: 0.7466674837867322\n",
            "CatBoost Mean Squared Error: 0.1512485821089138\n",
            "CatBoost Mean Absolute Error: 0.31714946133646593\n",
            "\n",
            "Best Model: CatBoost\n"
          ]
        }
      ]
    },
    {
      "cell_type": "code",
      "source": [
        "#randomsearch\n",
        "best_models = {}\n",
        "\n",
        "# ارزیابی مدل‌ها\n",
        "for name, model in models.items():\n",
        "    print(f\"Training {name}...\")\n",
        "    if name in param_grid:\n",
        "\n",
        "        random_search = RandomizedSearchCV(\n",
        "            model,\n",
        "            param_distributions=param_grid[name],\n",
        "            n_iter=len(param_grid[name]),\n",
        "            cv=5,\n",
        "            scoring='neg_mean_squared_error',\n",
        "            verbose=1,\n",
        "            random_state=42\n",
        "        )\n",
        "        random_search.fit(X_train, y_train)\n",
        "        best_model = random_search.best_estimator_\n",
        "        best_models[name] = best_model\n",
        "    else:\n",
        "        model.fit(X_train, y_train)\n",
        "        best_models[name] = model\n",
        "\n",
        "    # پیش‌بینی و ارزیابی مدل\n",
        "    y_pred = best_models[name].predict(X_test)\n",
        "    print(f\"{name} R2 Score: {r2_score(y_test, y_pred)}\")\n",
        "    print(f\"{name} Mean Squared Error: {mean_squared_error(y_test, y_pred)}\")\n",
        "    print(f\"{name} Mean Absolute Error: {mean_absolute_error(y_test, y_pred)}\\n\")\n",
        "\n",
        "# انتخاب بهترین مدل بر اساس R2 Score\n",
        "best_model_name = max(best_models, key=lambda name: r2_score(y_test, best_models[name].predict(X_test)))\n",
        "print(f\"Best Model: {best_model_name}\")"
      ],
      "metadata": {
        "colab": {
          "base_uri": "https://localhost:8080/"
        },
        "id": "rQUU5txLc5pc",
        "outputId": "716843e1-45c4-4e4d-ae73-fbeb47377f92"
      },
      "execution_count": 22,
      "outputs": [
        {
          "output_type": "stream",
          "name": "stdout",
          "text": [
            "Training Linear Regression...\n",
            "Linear Regression R2 Score: 0.688936431784382\n",
            "Linear Regression Mean Squared Error: 0.18571608706852427\n",
            "Linear Regression Mean Absolute Error: 0.36754935046008863\n",
            "\n",
            "Training Random Forest...\n",
            "Fitting 5 folds for each of 2 candidates, totalling 10 fits\n",
            "Random Forest R2 Score: 0.7389932595704225\n",
            "Random Forest Mean Squared Error: 0.1558303687222263\n",
            "Random Forest Mean Absolute Error: 0.3176083333333408\n",
            "\n",
            "Training XGBoost...\n",
            "Fitting 5 folds for each of 3 candidates, totalling 15 fits\n",
            "XGBoost R2 Score: 0.6356567193968075\n",
            "XGBoost Mean Squared Error: 0.21752598290916464\n",
            "XGBoost Mean Absolute Error: 0.38175689167446564\n",
            "\n",
            "Training CatBoost...\n",
            "Fitting 5 folds for each of 3 candidates, totalling 15 fits\n",
            "CatBoost R2 Score: 0.7466674837867322\n",
            "CatBoost Mean Squared Error: 0.1512485821089138\n",
            "CatBoost Mean Absolute Error: 0.31714946133646593\n",
            "\n",
            "Best Model: CatBoost\n"
          ]
        }
      ]
    }
  ]
}